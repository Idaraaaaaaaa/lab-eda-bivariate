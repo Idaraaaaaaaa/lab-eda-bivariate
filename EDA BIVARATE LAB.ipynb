{
 "cells": [
  {
   "cell_type": "code",
   "execution_count": null,
   "id": "7f270df0-6ed2-4cad-be4a-ca8df100cba6",
   "metadata": {},
   "outputs": [],
   "source": [
    "import pandas as pd\n",
    "import matplotlib.pyplot as plt\n",
    "import seaborn as sns\n",
    "import numpy as np\n",
    "\n",
    "%matplotlib inline"
   ]
  },
  {
   "cell_type": "code",
   "execution_count": null,
   "id": "baf68429-0aa9-42e6-85c3-4c5cab72b9e8",
   "metadata": {},
   "outputs": [],
   "source": [
    "df = pd.read_csv(\"C:/Users/atakp/Documents/GitHub/amz_uk_price_prediction_dataset.csv\")"
   ]
  },
  {
   "cell_type": "code",
   "execution_count": null,
   "id": "2e7114c1-d259-4873-9491-5a2441b7baa4",
   "metadata": {},
   "outputs": [],
   "source": [
    "df.head(50)"
   ]
  },
  {
   "cell_type": "markdown",
   "id": "751a496a-8c66-493b-90c1-6214aea98544",
   "metadata": {},
   "source": [
    "# Part 1: Analyzing Best-Seller Trends Across Product Categories"
   ]
  },
  {
   "cell_type": "markdown",
   "id": "a8917cf6-d94d-48da-b205-7e44cbdf164d",
   "metadata": {},
   "source": [
    "# Objective: Understand the relationship between product categories and their best-seller status."
   ]
  },
  {
   "cell_type": "code",
   "execution_count": null,
   "id": "b1ed98dd-9a8e-40c1-89fb-c81f4bba25d5",
   "metadata": {},
   "outputs": [],
   "source": [
    "#Crosstab Analysis:\n",
    "\n",
    "#Create a crosstab between the product category and the isBestSeller status.\n",
    "\n",
    "#Are there categories where being a best-seller is more prevalent?\n",
    "#Hint: one option is to calculate the proportion of best-sellers for each category and then sort the categories based on this proportion in descending order."
   ]
  },
  {
   "cell_type": "code",
   "execution_count": null,
   "id": "78b0572b-52bf-40dd-8fca-eedfe6620792",
   "metadata": {},
   "outputs": [],
   "source": [
    "\n",
    "crosstab = pd.crosstab(df['category'], df['isBestSeller'])\n",
    "\n",
    "crosstab"
   ]
  },
  {
   "cell_type": "code",
   "execution_count": null,
   "id": "7f1a94a3-f1d0-4c03-ba36-3fd01f76c0b6",
   "metadata": {},
   "outputs": [],
   "source": [
    "crosstab_result['Proportion_BestSeller'] = crosstab_result[True] / crosstab_result.sum(axis=1)\n",
    "crosstab_result['Proportion_BestSeller']\n",
    "#The proportion of best-sellers for each category is calculated by dividing the count of best-sellers by the total count of products in each category."
   ]
  },
  {
   "cell_type": "code",
   "execution_count": null,
   "id": "84b0a82f-7e49-442a-a083-65a7c6450491",
   "metadata": {},
   "outputs": [],
   "source": [
    "crosstab = pd.crosstab(df['category'], df['isBestSeller'], margins=True)"
   ]
  },
  {
   "cell_type": "code",
   "execution_count": null,
   "id": "f77093d7-f7eb-4885-ae07-019195403bdb",
   "metadata": {},
   "outputs": [],
   "source": [
    "crosstab['best_seller_proportion'] = crosstab[1] / crosstab['All']\n",
    "crosstab['best_seller_proportion']"
   ]
  },
  {
   "cell_type": "code",
   "execution_count": null,
   "id": "f46c07f8-4ac0-49cf-8e1d-4c2f6a4c8c58",
   "metadata": {},
   "outputs": [],
   "source": [
    "crosstab_sorted = crosstab.sort_values(by='best_seller_proportion', ascending=False)\n",
    "crosstab_sorted "
   ]
  },
  {
   "cell_type": "code",
   "execution_count": null,
   "id": "a94be71f-c5c9-4044-a35a-61d49961b7be",
   "metadata": {},
   "outputs": [],
   "source": [
    "sorted_categories = crosstab.sort_values(by='best_seller_proportion', ascending=False)\n",
    "sorted_categories.head(50)"
   ]
  },
  {
   "cell_type": "code",
   "execution_count": null,
   "id": "15e3ac78-9a3b-4f4f-886f-33a046ae0dfa",
   "metadata": {},
   "outputs": [],
   "source": [
    "#Statistical Tests:\n",
    "\n",
    "#Conduct a Chi-square test to determine if the best-seller distribution is independent of the product category.\n",
    "#Compute Cramér's V to understand the strength of the association between best-seller status and category.\n",
    "#Visualizations:\n",
    "#Visualize the relationship between product categories and the best-seller status using a stacked bar chart."
   ]
  },
  {
   "cell_type": "code",
   "execution_count": null,
   "id": "2f8819dd-7342-4f8b-b6d8-3c16ce9b0677",
   "metadata": {},
   "outputs": [],
   "source": [
    "#The chi-square test is a statistical test used to determine whether there is a significant association between two categorical variables.\n",
    "from scipy.stats import chi2_contingency\n",
    "\n",
    "# Chi-square test for 'category' and 'isBestSeller'\n",
    "chi2_statistic, chi2_p_value, _, _ = chi2_contingency(crosstab)\n",
    "\n",
    "chi2_statistic, chi2_p_value"
   ]
  },
  {
   "cell_type": "code",
   "execution_count": null,
   "id": "7bcb80eb-9de2-4a38-8e36-e52dfc3b2a5c",
   "metadata": {},
   "outputs": [],
   "source": [
    "from scipy.stats import chi2_contingency\n",
    "chi2, p, _, _ = chi2_contingency(crosstab.iloc[:-1, :-1])"
   ]
  },
  {
   "cell_type": "code",
   "execution_count": null,
   "id": "bb4e6d12-5497-4a5f-b9f8-62eb1a6ee2fc",
   "metadata": {},
   "outputs": [],
   "source": [
    "# Compute Cramér's V\n",
    "n = crosstab.iloc[:-1, :-1].sum().sum()\n",
    "phi = np.sqrt(chi2 / n)\n",
    "cramer_v = phi / np.sqrt(min(crosstab.shape[0] - 1, crosstab.shape[1] - 1))"
   ]
  },
  {
   "cell_type": "code",
   "execution_count": null,
   "id": "1d8476d2-9b13-4c95-ae29-be31e165826c",
   "metadata": {},
   "outputs": [],
   "source": [
    "# Cramer's V ranges from 0 to 1, where 0 indicates no association, and 1 represents a perfect association between the variables. \n",
    "#A higher value of Cramer's V indicates a stronger relationship between the categorical variables.\n",
    "from scipy.stats.contingency import association\n",
    "\n",
    "# Computing the association between variables in 'crosstab_result' using the \"cramer\" method\n",
    "association(crosstab, method=\"cramer\")"
   ]
  },
  {
   "cell_type": "code",
   "execution_count": null,
   "id": "ef72e1dc-f396-4208-ba80-9d8e8e0ef55a",
   "metadata": {},
   "outputs": [],
   "source": [
    "crosstab.plot(kind=\"bar\", stacked=True)"
   ]
  },
  {
   "cell_type": "code",
   "execution_count": null,
   "id": "d31e5e28-b100-4af8-a2f1-b68ba4bd71fb",
   "metadata": {},
   "outputs": [],
   "source": [
    "plt.figure(figsize=(10, 6))\n",
    "sns.barplot(x=crosstab_sorted.index, y=crosstab_sorted[1], color='skyblue', label='Best-Seller')\n",
    "sns.barplot(x=crosstab_sorted.index, y=crosstab_sorted[0], bottom=crosstab_sorted[1], color='lightgray', label='Not Best-Seller')\n",
    "plt.xlabel('Product Category')\n",
    "plt.ylabel('Count')\n",
    "plt.title('Best-Seller Status by Product Category')\n",
    "plt.legend()\n",
    "plt.xticks(rotation=45)\n",
    "plt.show()"
   ]
  },
  {
   "cell_type": "markdown",
   "id": "556b0ee6-61b8-4828-9346-3818c09d155d",
   "metadata": {},
   "source": [
    "# Part 2: Exploring Product Prices and Ratings Across Categories and Brands\n",
    "# Objective: Investigate how different product categories influence product prices."
   ]
  },
  {
   "cell_type": "code",
   "execution_count": null,
   "id": "381de437-74e6-4747-8732-9a0188997201",
   "metadata": {},
   "outputs": [],
   "source": [
    "#Preliminary Step: Remove outliers in product prices.\n",
    "\n",
    "#For this purpose, we can use the IQR (Interquartile Range) method. Products priced below the first quartile minus 1.5 times the IQR or above the third quartile plus 1.5 times the IQR will be considered outliers and removed from the dataset. The next steps will be done with the dataframe without outliers.\n",
    "\n",
    "#Hint: you can check the last Check For Understanding at the end of the lesson EDA Bivariate Analysis for a hint on how to do this."
   ]
  },
  {
   "cell_type": "code",
   "execution_count": null,
   "id": "c3eb7d1f-8874-4623-926e-9e826f43e574",
   "metadata": {},
   "outputs": [],
   "source": [
    "#def tukeys_test_outliers(data):\n",
    "    #Q1 = df.quantile(0.25)\n",
    "    #Q3 = df.quantile(0.75)\n",
    "    #IQR = Q3 - Q1\n",
    "    \n",
    "    # Define bounds for the outliers\n",
    "    #lower_bound = Q1 - 1.5 * IQR\n",
    "    #upper_bound = Q3 + 1.5 * IQR\n",
    "    \n",
    "    # Identify the outliers\n",
    "    #outliers = data[(data < lower_bound) | (data > upper_bound)]\n",
    "    \n",
    "    #return outliers"
   ]
  },
  {
   "cell_type": "code",
   "execution_count": null,
   "id": "588077b3-06e2-4c73-b364-80c98f39b814",
   "metadata": {},
   "outputs": [],
   "source": [
    "Q1 = df['price'].quantile(0.25)\n",
    "Q3 = df['price'].quantile(0.75)\n",
    "IQR = Q3 - Q1\n",
    "    \n",
    "    # Define bounds for the outliers\n",
    "lower_bound = Q1 - 1.5 * IQR\n",
    "upper_bound = Q3 + 1.5 * IQR\n",
    "    \n",
    "    # Identify the outliers\n",
    "cleaned = df[(df['price'] >= lower_bound) & (df['price'] <= upper_bound)]"
   ]
  },
  {
   "cell_type": "code",
   "execution_count": null,
   "id": "52af3fd7-03c4-420e-a5da-8310cea861fe",
   "metadata": {},
   "outputs": [],
   "source": [
    "cleaned "
   ]
  },
  {
   "cell_type": "code",
   "execution_count": null,
   "id": "17805c08-d485-4222-a6f3-37f62d851cf7",
   "metadata": {},
   "outputs": [],
   "source": [
    "top_categories = cleaned['category'].value_counts().nlargest(20).index\n",
    "plt.figure(figsize=(10, 6))\n",
    "sns.violinplot(x='category', y='price', data=cleaned[cleaned['category'].isin(top_categories)])\n",
    "plt.xlabel('Product Category')\n",
    "plt.ylabel('Price')\n",
    "plt.title('Distribution of Price Across Product Categories')\n",
    "plt.xticks(rotation=45)\n",
    "plt.show()"
   ]
  },
  {
   "cell_type": "code",
   "execution_count": null,
   "id": "d41eecc3-9931-43e7-a658-d1c5e7db42e8",
   "metadata": {},
   "outputs": [],
   "source": [
    "# Filter top 20 categories based on count\n",
    "top_categories = cleaned['category'].value_counts().head(20).index\n",
    "df_filtered = cleaned[cleaned['category'].isin(top_categories)]"
   ]
  },
  {
   "cell_type": "code",
   "execution_count": null,
   "id": "7398f387-1e53-42a3-a47d-2087397a035e",
   "metadata": {},
   "outputs": [],
   "source": [
    "# Plotting a violin plot to visualize the distribution of 'price' for each 'category', using the \"coolwarm\" color palette\n",
    "sns.violinplot(data=df_filtered, x='category', y='price', palette=\"coolwarm\")\n",
    "#Which product category tends to have the highest median price? Don't filter here by top categories\n",
    "plt.xticks(rotation = 90)"
   ]
  },
  {
   "cell_type": "code",
   "execution_count": null,
   "id": "1c689d41-5177-4c79-bd86-fefed40487e5",
   "metadata": {},
   "outputs": [],
   "source": [
    "#Bar Charts:\n",
    "#Create a bar chart comparing the average price of products for the top 10 product categories (based on count).\n",
    "#Which product category commands the highest average price? Don't filter here by top categories.\n",
    "category_counts = cleaned[\"category\"].value_counts()\n",
    "# Select the top 10 categories based on count\n",
    "top_10_categories = category_counts.nlargest(10).index\n",
    "# Filter the DataFrame to include only products from the top 10 categories\n",
    "df_top_10_categories = cleaned[cleaned[\"category\"].isin(top_10_categories)]\n",
    "# Calculate the average price for each category\n",
    "average_prices = df_top_10_categories.groupby(\"category\")[\"price\"].mean().sort_values(ascending=False).reset_index()\n",
    "sns.barplot(data=average_prices, x=\"category\", y=\"price\", palette=\"coolwarm\")\n",
    "plt.xticks(rotation = 90)"
   ]
  },
  {
   "cell_type": "code",
   "execution_count": null,
   "id": "934806ee-99d6-4536-aa8b-7e6ec8c13855",
   "metadata": {},
   "outputs": [],
   "source": [
    "sns.barplot(data=cleaned, x='category', y='price', palette=\"coolwarm\")\n",
    "plt.xticks(rotation = 90)"
   ]
  },
  {
   "cell_type": "code",
   "execution_count": null,
   "id": "6de5d633-545a-444f-a929-4537c1cdfff5",
   "metadata": {},
   "outputs": [],
   "source": [
    "#Box Plots:\n",
    "#Visualize the distribution of product ratings based on their category using side-by-side box plots. \n",
    "#Filter out the top 10 categories based on count for better visualization.\n",
    "#Which category tends to receive the highest median rating from customers? Don't filter here by top categories.\n"
   ]
  },
  {
   "cell_type": "code",
   "execution_count": null,
   "id": "034d837b-3500-43dd-9289-7aad3e181c64",
   "metadata": {},
   "outputs": [],
   "source": [
    "plt.figure(figsize=(10, 6))\n",
    "sns.boxplot(x='category', y='stars', data=cleaned[cleaned['category'].isin(top_10_categories)])\n",
    "plt.xlabel('Product Category')\n",
    "plt.ylabel('Rating')\n",
    "plt.title('Distribution of Product Ratings by Top 10 Categories')\n",
    "plt.xticks(rotation=45)\n",
    "plt.show()"
   ]
  },
  {
   "cell_type": "markdown",
   "id": "da64f818-66cc-4d1f-9216-1dce20ebc1b9",
   "metadata": {},
   "source": [
    "# Part 3: Investigating the Interplay Between Product Prices and Ratings\n",
    "# Objective: Analyze how product ratings (stars) correlate with product prices."
   ]
  },
  {
   "cell_type": "code",
   "execution_count": null,
   "id": "370388a0-fdc2-4cd7-87af-8dd79b71d1a5",
   "metadata": {},
   "outputs": [],
   "source": [
    "Correlation Coefficients:\n",
    "\n",
    "Calculate the correlation coefficient between price and stars.\n",
    "Is there a significant correlation between product price and its rating?\n",
    "Visualizations:\n",
    "\n",
    "Use a scatter plot to visualize the relationship between product rating and price. What patterns can you observe?\n",
    "Use a correlation heatmap to visualize correlations between all numerical variables.\n",
    "Examine if product prices typically follow a normal distribution using a QQ plot."
   ]
  },
  {
   "cell_type": "code",
   "execution_count": null,
   "id": "f7806677-9bc4-4a9c-ae5e-e8f55c4bad36",
   "metadata": {},
   "outputs": [],
   "source": [
    "# Calculating the Pearson correlation coefficient \n",
    "correlation = cleaned['price'].corr(cleaned['stars'])\n",
    "correlation"
   ]
  },
  {
   "cell_type": "code",
   "execution_count": null,
   "id": "6cecb7aa-1456-493d-9526-5ba892d274f4",
   "metadata": {},
   "outputs": [],
   "source": [
    "# Calculating the Spearman rank correlation \n",
    "correlation2 = cleaned['price'].corr(cleaned['stars'], method='spearman')\n",
    "correlation"
   ]
  },
  {
   "cell_type": "code",
   "execution_count": null,
   "id": "caf8ff4f-9b2b-4b36-a5f2-c0e4f71aa396",
   "metadata": {},
   "outputs": [],
   "source": [
    "#The Pearson correlation of (-0.1249) suggests a non linear relationship between the price and the rating. \n",
    "#As the rating increases, the price tend to decrease and vice versa.\n",
    "\n",
    "#The Spearman correlation of (-0.1249) indicates a negative monotonic relationship between the two variables. \n",
    "#This means that as the rating increases, the price tend to decrease, but not necessarily at a constant rate."
   ]
  },
  {
   "cell_type": "code",
   "execution_count": null,
   "id": "78c2774c-3afe-441d-975e-8263dbf3747e",
   "metadata": {},
   "outputs": [],
   "source": [
    "sns.scatterplot(data=cleaned, x='price', y='stars')"
   ]
  },
  {
   "cell_type": "code",
   "execution_count": null,
   "id": "102f79e3-e156-4245-8799-2c86df7d2d9c",
   "metadata": {},
   "outputs": [],
   "source": [
    "potential_categorical_from_numerical = df.select_dtypes(\"number\").loc[:, df.select_dtypes(\"number\").nunique() < 20]\n",
    "potential_categorical_from_numerical"
   ]
  },
  {
   "cell_type": "code",
   "execution_count": null,
   "id": "6ec45b32-3069-4060-8e36-869c18a77e52",
   "metadata": {},
   "outputs": [],
   "source": [
    "# Adjusting the numerical dataframe by removing the moved columns\n",
    "df_numerical = df.select_dtypes(\"number\").drop(columns=potential_categorical_from_numerical.columns)"
   ]
  },
  {
   "cell_type": "code",
   "execution_count": null,
   "id": "184a1b67-1b9f-4e56-85b9-7757ba9a9e49",
   "metadata": {},
   "outputs": [],
   "source": [
    "correlation_matrix =df_numerical.corr()\n",
    "\n",
    "# Setting up the matplotlib figure with an appropriate size\n",
    "plt.figure(figsize=(18, 15))\n",
    "\n",
    "# Drawing the heatmap for the numerical columns\n",
    "sns.heatmap(correlation_matrix, annot=True, cmap=\"coolwarm\")\n",
    "\n",
    "plt.title(\"Correlation Heatmap for Selected Numerical Variables\")\n",
    "plt.show()"
   ]
  },
  {
   "cell_type": "code",
   "execution_count": null,
   "id": "972c43ef-eaa8-4d9e-b614-ddc2090e19d3",
   "metadata": {},
   "outputs": [],
   "source": [
    "#The Quantile-Quantile (QQ) plot is a graphical tool to help us assess if a dataset follows a particular theoretical distribution.\n",
    "\n",
    "#Straight Line Alignment: If the data points (the blue dots) closely follow the red straight line (which represents the standard normal distribution), \n",
    "#it suggests that the data is approximately normally distributed.\n",
    "\n",
    "#Deviations from the Line: Deviations of the data points from the red line, especially if systematic, indicate deviations from normality."
   ]
  },
  {
   "cell_type": "code",
   "execution_count": null,
   "id": "74ae35e9-49d9-498f-92e1-f3052c08a49a",
   "metadata": {},
   "outputs": [],
   "source": [
    "import statsmodels.api as sm\n",
    "\n",
    "# Generating a Q-Q plot for 'price' to check if its distribution follows a normal distribution\n",
    "sm.qqplot(cleaned['price'], line='s');"
   ]
  },
  {
   "cell_type": "code",
   "execution_count": null,
   "id": "859f9b38-e81c-4106-a1f9-43692e668606",
   "metadata": {},
   "outputs": [],
   "source": [
    "cleaned['price'].hist()"
   ]
  }
 ],
 "metadata": {
  "kernelspec": {
   "display_name": "Python 3 (ipykernel)",
   "language": "python",
   "name": "python3"
  },
  "language_info": {
   "codemirror_mode": {
    "name": "ipython",
    "version": 3
   },
   "file_extension": ".py",
   "mimetype": "text/x-python",
   "name": "python",
   "nbconvert_exporter": "python",
   "pygments_lexer": "ipython3",
   "version": "3.11.7"
  }
 },
 "nbformat": 4,
 "nbformat_minor": 5
}
